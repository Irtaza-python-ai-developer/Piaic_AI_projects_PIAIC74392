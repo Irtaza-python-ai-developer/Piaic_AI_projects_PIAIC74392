{
 "cells": [
  {
   "cell_type": "markdown",
   "metadata": {},
   "source": [
    "# Name : Muhammad Irtaza\n",
    "PIAIC NUMBER : PIAIC74392\n",
    "Submitted to : Sir Qasim \n",
    "Location : Bahria auditorium\n",
    "Time slot : 12:15 - 3:15"
   ]
  },
  {
   "cell_type": "code",
   "execution_count": 27,
   "metadata": {},
   "outputs": [
    {
     "data": {
      "text/plain": [
       "46"
      ]
     },
     "execution_count": 27,
     "metadata": {},
     "output_type": "execute_result"
    }
   ],
   "source": [
    "#PEMDAS\n",
    "5 + 10 - (110 + 15) / 5**2 + 40 - (55 + 65) / (52 - 46) - 50 + (10 / 5) * 9 + (19 * 5 - 47) \n",
    "# 5 + 10 - (125) / 5 ** 2 + 40 - (120) / (6) - 50 + (2) * 9 + (48)\n",
    "# 5 + 10 - 125/5**2 + 40 - 120/6 - 50 + 2*9 + 48\n",
    "# 5 + 10 - 125/25 + 40 - 120/6 - 50 + 18 + 48\n",
    "# 5 + 10 - 25 + 40 - 20 - 50 + 18 + 48\n",
    "# 5 + 10 + 40 + 18 + 48 - 50 - 20 - 5\n",
    "# 121 - 75\n",
    "# 46.0"
   ]
  },
  {
   "cell_type": "code",
   "execution_count": 30,
   "metadata": {},
   "outputs": [
    {
     "data": {
      "text/plain": [
       "['__add__',\n",
       " '__class__',\n",
       " '__contains__',\n",
       " '__delattr__',\n",
       " '__dir__',\n",
       " '__doc__',\n",
       " '__eq__',\n",
       " '__format__',\n",
       " '__ge__',\n",
       " '__getattribute__',\n",
       " '__getitem__',\n",
       " '__getnewargs__',\n",
       " '__gt__',\n",
       " '__hash__',\n",
       " '__init__',\n",
       " '__init_subclass__',\n",
       " '__iter__',\n",
       " '__le__',\n",
       " '__len__',\n",
       " '__lt__',\n",
       " '__mod__',\n",
       " '__mul__',\n",
       " '__ne__',\n",
       " '__new__',\n",
       " '__reduce__',\n",
       " '__reduce_ex__',\n",
       " '__repr__',\n",
       " '__rmod__',\n",
       " '__rmul__',\n",
       " '__setattr__',\n",
       " '__sizeof__',\n",
       " '__str__',\n",
       " '__subclasshook__',\n",
       " 'capitalize',\n",
       " 'casefold',\n",
       " 'center',\n",
       " 'count',\n",
       " 'encode',\n",
       " 'endswith',\n",
       " 'expandtabs',\n",
       " 'find',\n",
       " 'format',\n",
       " 'format_map',\n",
       " 'index',\n",
       " 'isalnum',\n",
       " 'isalpha',\n",
       " 'isascii',\n",
       " 'isdecimal',\n",
       " 'isdigit',\n",
       " 'isidentifier',\n",
       " 'islower',\n",
       " 'isnumeric',\n",
       " 'isprintable',\n",
       " 'isspace',\n",
       " 'istitle',\n",
       " 'isupper',\n",
       " 'join',\n",
       " 'ljust',\n",
       " 'lower',\n",
       " 'lstrip',\n",
       " 'maketrans',\n",
       " 'partition',\n",
       " 'replace',\n",
       " 'rfind',\n",
       " 'rindex',\n",
       " 'rjust',\n",
       " 'rpartition',\n",
       " 'rsplit',\n",
       " 'rstrip',\n",
       " 'split',\n",
       " 'splitlines',\n",
       " 'startswith',\n",
       " 'strip',\n",
       " 'swapcase',\n",
       " 'title',\n",
       " 'translate',\n",
       " 'upper',\n",
       " 'zfill']"
      ]
     },
     "execution_count": 30,
     "metadata": {},
     "output_type": "execute_result"
    }
   ],
   "source": [
    "dir(str)\n"
   ]
  },
  {
   "cell_type": "code",
   "execution_count": 33,
   "metadata": {},
   "outputs": [
    {
     "name": "stdout",
     "output_type": "stream",
     "text": [
      "For only 2373.00 dollars!\n",
      "My name is John, I'am 36\n",
      "My name is John, I'am 36\n",
      "My name is John, I'am 36\n"
     ]
    }
   ],
   "source": [
    "#STRING .FORMAT\n",
    "txt = \"For only {price:.2f} dollars!\"\n",
    "print(txt.format(price = 2373))\n",
    "\n",
    "txt1 = \"My name is {fname}, I'am {age}\".format(fname = \"John\", age = 36)\n",
    "txt2 = \"My name is {0}, I'am {1}\".format(\"John\",36)\n",
    "txt3 = \"My name is {}, I'am {}\".format(\"John\",36)\n",
    "\n",
    "print (txt1)\n",
    "print (txt2)\n",
    "print (txt3)"
   ]
  },
  {
   "cell_type": "code",
   "execution_count": 37,
   "metadata": {},
   "outputs": [
    {
     "name": "stdout",
     "output_type": "stream",
     "text": [
      "21\n",
      "-1\n"
     ]
    }
   ],
   "source": [
    "#find()\n",
    "\n",
    "#word index to be found is fun\n",
    "txt = \"Hello, welcome to my funland resort.\"\n",
    "\n",
    "x = txt.find(\"fun\")\n",
    "\n",
    "print(x)\n",
    "\n",
    "txt = \"Lets go to a nice party.\"\n",
    "\n",
    "x = txt.find(\"e\", 5, 10) # text range from index 5 to 10\n",
    "\n",
    "print(x)"
   ]
  },
  {
   "cell_type": "code",
   "execution_count": 45,
   "metadata": {},
   "outputs": [
    {
     "name": "stdout",
     "output_type": "stream",
     "text": [
      "F         l         o         w         e         r\n"
     ]
    }
   ],
   "source": [
    "#expandtabs()\n",
    "#The expandtabs() method sets the tab size to the specified number of whitespaces.\n",
    "txt = \"F\\tl\\to\\tw\\te\\tr\"\n",
    "\n",
    "x =  txt.expandtabs(10)\n",
    "\n",
    "print(x)"
   ]
  },
  {
   "cell_type": "code",
   "execution_count": 46,
   "metadata": {},
   "outputs": [
    {
     "name": "stdout",
     "output_type": "stream",
     "text": [
      "False\n"
     ]
    }
   ],
   "source": [
    "#Endswith()\n",
    "#The endswith() method returns True if the string ends with the specified value, otherwise False.\n",
    "\n",
    "txt = \"I am coding Python,\"\n",
    "\n",
    "x = txt.endswith(\".\")\n",
    "\n",
    "print(x)"
   ]
  },
  {
   "cell_type": "code",
   "execution_count": 49,
   "metadata": {},
   "outputs": [
    {
     "name": "stdout",
     "output_type": "stream",
     "text": [
      "b'My name is St\\xc3\\xa5le'\n"
     ]
    }
   ],
   "source": [
    "#encode()\n",
    "#The encode() method encodes the string, using the specified encoding. If no encoding is specified, UTF-8 will be used.\n",
    "\n",
    "txt = \"My name is Ståle\"\n",
    "\n",
    "x = txt.encode()\n",
    "\n",
    "print(x)"
   ]
  },
  {
   "cell_type": "code",
   "execution_count": 50,
   "metadata": {},
   "outputs": [
    {
     "name": "stdout",
     "output_type": "stream",
     "text": [
      "3\n"
     ]
    }
   ],
   "source": [
    "#count()\n",
    "#use to count number of words appreance in the string\n",
    "\n",
    "txt = \"I hate mangoes, apple is my favorite fruit and apple fell on Newton, I really wish it would have been watermellon instead of an apple\"\n",
    "\n",
    "x = txt.count(\"apple\")\n",
    "\n",
    "print(x)"
   ]
  },
  {
   "cell_type": "code",
   "execution_count": 61,
   "metadata": {},
   "outputs": [
    {
     "name": "stdout",
     "output_type": "stream",
     "text": [
      "                          Computer                          \n",
      "OOOOOOOOOOOOOOOOOOOOOOOOOOComputerOOOOOOOOOOOOOOOOOOOOOOOOOO\n"
     ]
    }
   ],
   "source": [
    "#center\n",
    "#aligns center within the specified character space\n",
    "\n",
    "txt = \"Computer\"\n",
    "\n",
    "x = txt.center(60)\n",
    "\n",
    "print(x)\n",
    "\n",
    "\n",
    "txt1 = \"Computer\"\n",
    "\n",
    "x1 = txt1.center(60,\"O\")\n",
    "\n",
    "print(x1)"
   ]
  },
  {
   "cell_type": "code",
   "execution_count": 62,
   "metadata": {},
   "outputs": [
    {
     "name": "stdout",
     "output_type": "stream",
     "text": [
      "hello, and welcome to my world!\n"
     ]
    }
   ],
   "source": [
    "#casefold()\n",
    "#lowercase conversion\n",
    "txt = \"Hello, And Welcome To My World!\"\n",
    "\n",
    "x = txt.casefold()\n",
    "\n",
    "print(x)"
   ]
  },
  {
   "cell_type": "code",
   "execution_count": 63,
   "metadata": {},
   "outputs": [
    {
     "name": "stdout",
     "output_type": "stream",
     "text": [
      "Hello, and welcome to my world!\n"
     ]
    }
   ],
   "source": [
    "#capitalize()\n",
    "\n",
    "txt = \"Hello, And Welcome To My World!\"\n",
    "\n",
    "x = txt.capitalize()\n",
    "\n",
    "print(x)"
   ]
  },
  {
   "cell_type": "code",
   "execution_count": 66,
   "metadata": {},
   "outputs": [
    {
     "name": "stdout",
     "output_type": "stream",
     "text": [
      "14\n"
     ]
    }
   ],
   "source": [
    "#index()\n",
    "\n",
    "txt = \"I am going to welcome you all\"\n",
    "\n",
    "x = txt.index(\"welcome\")\n",
    "\n",
    "print(x)\n"
   ]
  },
  {
   "cell_type": "code",
   "execution_count": null,
   "metadata": {},
   "outputs": [],
   "source": [
    "#isalnum()\n",
    "#isalphanumaric or not\n",
    "txt = \"Company12\"\n",
    "\n",
    "x = txt.isalnum()\n",
    "\n",
    "print(x)"
   ]
  },
  {
   "cell_type": "code",
   "execution_count": null,
   "metadata": {},
   "outputs": [],
   "source": [
    "#isalpha()\n",
    "#is alphabet or not\n",
    "\n",
    "txt = \"CompanyX\"\n",
    "\n",
    "x = txt.isalpha()\n",
    "\n",
    "print(x)"
   ]
  },
  {
   "cell_type": "code",
   "execution_count": 67,
   "metadata": {},
   "outputs": [
    {
     "name": "stdout",
     "output_type": "stream",
     "text": [
      "True\n"
     ]
    }
   ],
   "source": [
    "#isdecimal()\n",
    "#is decimal number or not\n",
    "\n",
    "txt = \"\\u0033\" #unicode for 3\n",
    "\n",
    "x = txt.isdecimal()\n",
    "\n",
    "print(x)"
   ]
  },
  {
   "cell_type": "code",
   "execution_count": null,
   "metadata": {},
   "outputs": [],
   "source": [
    "#isdigit()\n",
    "\n",
    "txt = \"50800\"\n",
    "\n",
    "x = txt.isdigit()\n",
    "\n",
    "print(x)"
   ]
  },
  {
   "cell_type": "code",
   "execution_count": 68,
   "metadata": {},
   "outputs": [
    {
     "name": "stdout",
     "output_type": "stream",
     "text": [
      "False\n"
     ]
    }
   ],
   "source": [
    "#isidentifier()\n",
    "#The isidentifier() method returns True if the string is a valid identifier, otherwise False.\n",
    "txt = \"Demo/)Oxy*-34\"\n",
    "\n",
    "x = txt.isidentifier()\n",
    "\n",
    "print(x)"
   ]
  },
  {
   "cell_type": "code",
   "execution_count": null,
   "metadata": {},
   "outputs": [],
   "source": [
    "#islower()\n",
    "\n",
    "txt = \"hello world!\"\n",
    "\n",
    "x = txt.islower()\n",
    "\n",
    "print(x)"
   ]
  },
  {
   "cell_type": "code",
   "execution_count": null,
   "metadata": {},
   "outputs": [],
   "source": [
    "#isnumeric()\n",
    "\n",
    "txt = \"565543\"\n",
    "\n",
    "x = txt.isnumeric()\n",
    "\n",
    "print(x)"
   ]
  },
  {
   "cell_type": "code",
   "execution_count": 69,
   "metadata": {},
   "outputs": [
    {
     "name": "stdout",
     "output_type": "stream",
     "text": [
      "True\n"
     ]
    }
   ],
   "source": [
    "#isprintable()\n",
    "#The isprintable() method returns True if all the characters are printable, otherwise False.\n",
    "\n",
    "\n",
    "txt = \"Hello! Are you #1?\"\n",
    "\n",
    "x = txt.isprintable()\n",
    "\n",
    "print(x)"
   ]
  },
  {
   "cell_type": "code",
   "execution_count": null,
   "metadata": {},
   "outputs": [],
   "source": [
    "#isspace()\n",
    "\n",
    "txt = \"   \"\n",
    "\n",
    "x = txt.isspace()\n",
    "\n",
    "print(x)"
   ]
  },
  {
   "cell_type": "code",
   "execution_count": 71,
   "metadata": {},
   "outputs": [
    {
     "name": "stdout",
     "output_type": "stream",
     "text": [
      "False\n"
     ]
    }
   ],
   "source": [
    "#istitle()\n",
    "#The istitle() method returns True if all words in a text start with a upper case letter, \n",
    "#AND the rest of the word are lower case letters, otherwise False.\n",
    "\n",
    "txt = \"Really! Is it a title\"\n",
    "\n",
    "x = txt.istitle()\n",
    "\n",
    "print(x)"
   ]
  },
  {
   "cell_type": "code",
   "execution_count": 72,
   "metadata": {},
   "outputs": [
    {
     "name": "stdout",
     "output_type": "stream",
     "text": [
      "True\n"
     ]
    }
   ],
   "source": [
    "#isupper()\n",
    "#Checks all uppercase\n",
    "txt = \"THIS IS NOW!\"\n",
    "\n",
    "x = txt.isupper()\n",
    "\n",
    "print(x)"
   ]
  },
  {
   "cell_type": "code",
   "execution_count": 74,
   "metadata": {},
   "outputs": [
    {
     "name": "stdout",
     "output_type": "stream",
     "text": [
      "JohnMahaRajPeterMahaRajVicky\n"
     ]
    }
   ],
   "source": [
    "#join()\n",
    "\n",
    "myTuple = (\"John\", \"Peter\", \"Vicky\")\n",
    "\n",
    "x = \"MahaRaj\".join(myTuple)\n",
    "\n",
    "print(x)"
   ]
  },
  {
   "cell_type": "code",
   "execution_count": 76,
   "metadata": {},
   "outputs": [
    {
     "name": "stdout",
     "output_type": "stream",
     "text": [
      "bananaXXXXXXXXXXXXXX is my favorite fruit.\n"
     ]
    }
   ],
   "source": [
    "#ljust()\n",
    "#The ljust() method will left align the string, using a specified character (space is default) as the fill character.\n",
    "txt = \"banana\"\n",
    "\n",
    "x = txt.ljust(20,\"X\")\n",
    "\n",
    "print(x, \"is my favorite fruit.\")"
   ]
  },
  {
   "cell_type": "code",
   "execution_count": 77,
   "metadata": {},
   "outputs": [
    {
     "name": "stdout",
     "output_type": "stream",
     "text": [
      "hello my friends\n"
     ]
    }
   ],
   "source": [
    "#lower()\n",
    "#converts all the lowercase from uppercase\n",
    "\n",
    "txt = \"Hello my FRIENDS\"\n",
    "\n",
    "x = txt.lower()\n",
    "\n",
    "print(x)"
   ]
  },
  {
   "cell_type": "code",
   "execution_count": 78,
   "metadata": {},
   "outputs": [
    {
     "name": "stdout",
     "output_type": "stream",
     "text": [
      "of all fruits banana      is my favorite\n"
     ]
    }
   ],
   "source": [
    "#lstrip()\n",
    "#remove all the white spaces on the left\n",
    "\n",
    "txt = \"     banana     \"\n",
    "\n",
    "x = txt.lstrip()\n",
    "\n",
    "print(\"of all fruits\", x, \"is my favorite\")"
   ]
  },
  {
   "cell_type": "code",
   "execution_count": 79,
   "metadata": {},
   "outputs": [
    {
     "name": "stdout",
     "output_type": "stream",
     "text": [
      "HELLO MY FRIENDS\n"
     ]
    }
   ],
   "source": [
    "#upper()\n",
    "#converts to uppercase\n",
    "\n",
    "txt = \"Hello my friends\"\n",
    "\n",
    "x = txt.upper()\n",
    "\n",
    "print(x)"
   ]
  },
  {
   "cell_type": "code",
   "execution_count": null,
   "metadata": {},
   "outputs": [],
   "source": [
    "#title()\n",
    "#converts string to title tag- initial of every alphabet capital\n",
    "txt = \"Welcome to my world\"\n",
    "\n",
    "x = txt.title()\n",
    "\n",
    "print(x)"
   ]
  },
  {
   "cell_type": "code",
   "execution_count": 80,
   "metadata": {},
   "outputs": [
    {
     "name": "stdout",
     "output_type": "stream",
     "text": [
      "hELLO mY nAME iS peter\n"
     ]
    }
   ],
   "source": [
    "#swapcase()\n",
    "#makes uppercase lower and viceversa\n",
    "\n",
    "txt = \"Hello My Name Is PETER\"\n",
    "\n",
    "x = txt.swapcase()\n",
    "\n",
    "print(x)"
   ]
  },
  {
   "cell_type": "code",
   "execution_count": null,
   "metadata": {},
   "outputs": [],
   "source": [
    "#strip()\n",
    "#removes spaces from end and the begining of the text\n",
    "\n",
    "txt = \"     banana     \"\n",
    "\n",
    "x = txt.strip()\n",
    "\n",
    "print(\"of all fruits\", x, \"is my favorite\")"
   ]
  },
  {
   "cell_type": "code",
   "execution_count": 82,
   "metadata": {},
   "outputs": [
    {
     "name": "stdout",
     "output_type": "stream",
     "text": [
      "False\n"
     ]
    }
   ],
   "source": [
    "#startswith()\n",
    "#Checks if string starts with the word or character or not\n",
    "\n",
    "txt = \"Hello, welcome to my world.\"\n",
    "\n",
    "x = txt.startswith(\"Helo\")\n",
    "\n",
    "print(x)"
   ]
  },
  {
   "cell_type": "code",
   "execution_count": null,
   "metadata": {},
   "outputs": [],
   "source": [
    "#splitlines()\n",
    "#Split a string into a list where each line is a list item:\n",
    "\n",
    "txt = \"Thank you for the music\\nWelcome to the jungle\"\n",
    "\n",
    "x = txt.splitlines()\n",
    "\n",
    "print(x)"
   ]
  },
  {
   "cell_type": "code",
   "execution_count": null,
   "metadata": {},
   "outputs": [],
   "source": [
    "#Split()\n",
    "#Split a string into a list where each word is a list item:\n",
    "\n",
    "txt = \"welcome to the jungle\"\n",
    "\n",
    "x = txt.split()\n",
    "\n",
    "print(x)"
   ]
  },
  {
   "cell_type": "code",
   "execution_count": 83,
   "metadata": {},
   "outputs": [
    {
     "name": "stdout",
     "output_type": "stream",
     "text": [
      "of all fruits      banana is my favorite\n"
     ]
    }
   ],
   "source": [
    "#rstrip()\n",
    "#Remove spaces to the right of the string:\n",
    "\n",
    "txt = \"     banana     \"\n",
    "\n",
    "x = txt.rstrip()\n",
    "\n",
    "print(\"of all fruits\", x, \"is my favorite\")"
   ]
  },
  {
   "cell_type": "code",
   "execution_count": null,
   "metadata": {},
   "outputs": [],
   "source": [
    "#Split()\n",
    "#Split a string into a list, using comma, followed by a space (, ) as the separator:\n",
    "\n",
    "txt = \"apple, banana, cherry\"\n",
    "\n",
    "x = txt.rsplit(\", \")\n",
    "\n",
    "print(x)"
   ]
  },
  {
   "cell_type": "code",
   "execution_count": null,
   "metadata": {},
   "outputs": [],
   "source": [
    "#rpartition()\n",
    "\n",
    "#Search for the last occurrence of the word \"bananas\", and return a tuple with three elements:\n",
    "\n",
    "#1 - everything before the \"match\"\n",
    "#2 - the \"match\"\n",
    "#3 - everything after the \"match\"\n",
    "\n",
    "txt = \"I could eat bananas all day, bananas are my favorite fruit\"\n",
    "\n",
    "x = txt.rpartition(\"bananas\")\n",
    "\n",
    "print(x)"
   ]
  },
  {
   "cell_type": "code",
   "execution_count": 84,
   "metadata": {},
   "outputs": [
    {
     "name": "stdout",
     "output_type": "stream",
     "text": [
      "              banana is my favorite fruit.\n"
     ]
    }
   ],
   "source": [
    "#rjust()\n",
    "#Return a 20 characters long, right justified version of the word \"banana\":\n",
    "\n",
    "txt = \"banana\"\n",
    "\n",
    "x = txt.rjust(20)\n",
    "\n",
    "print(x, \"is my favorite fruit.\")"
   ]
  },
  {
   "cell_type": "code",
   "execution_count": 85,
   "metadata": {},
   "outputs": [
    {
     "name": "stdout",
     "output_type": "stream",
     "text": [
      "12\n"
     ]
    }
   ],
   "source": [
    "#rindex()\n",
    "#Where in the text is the last occurrence of the string \"casa\"?:\n",
    "\n",
    "txt = \"Mi casa, su casa.\"\n",
    "\n",
    "x = txt.rindex(\"casa\")\n",
    "\n",
    "print(x)"
   ]
  },
  {
   "cell_type": "code",
   "execution_count": 86,
   "metadata": {},
   "outputs": [
    {
     "name": "stdout",
     "output_type": "stream",
     "text": [
      "12\n"
     ]
    }
   ],
   "source": [
    "#rfind()\n",
    "#Where in the text is the last occurrence of the string \"casa\"?:\n",
    "\n",
    "txt = \"Mi casa, su casa.\"\n",
    "\n",
    "x = txt.rfind(\"casa\")\n",
    "\n",
    "print(x)"
   ]
  },
  {
   "cell_type": "code",
   "execution_count": null,
   "metadata": {},
   "outputs": [],
   "source": [
    "#replace()\n",
    "\n",
    "#Replace the word \"bananas\":\n",
    "\n",
    "txt = \"I like bananas\"\n",
    "\n",
    "x = txt.replace(\"bananas\", \"apples\")\n",
    "\n",
    "print(x)"
   ]
  },
  {
   "cell_type": "code",
   "execution_count": null,
   "metadata": {},
   "outputs": [],
   "source": [
    "#partition\n",
    "\n",
    "#Search for the word \"bananas\", and return a tuple with three elements:\n",
    "\n",
    "#1 - everything before the \"match\"\n",
    "#2 - the \"match\"\n",
    "#3 - everything after the \"match\"\n",
    "\n",
    "txt = \"I could eat bananas all day\"\n",
    "\n",
    "x = txt.partition(\"bananas\")\n",
    "\n",
    "print(x)"
   ]
  },
  {
   "cell_type": "code",
   "execution_count": null,
   "metadata": {},
   "outputs": [],
   "source": []
  },
  {
   "cell_type": "code",
   "execution_count": null,
   "metadata": {},
   "outputs": [],
   "source": []
  }
 ],
 "metadata": {
  "kernelspec": {
   "display_name": "Python 3",
   "language": "python",
   "name": "python3"
  },
  "language_info": {
   "codemirror_mode": {
    "name": "ipython",
    "version": 3
   },
   "file_extension": ".py",
   "mimetype": "text/x-python",
   "name": "python",
   "nbconvert_exporter": "python",
   "pygments_lexer": "ipython3",
   "version": "3.7.3"
  }
 },
 "nbformat": 4,
 "nbformat_minor": 2
}
